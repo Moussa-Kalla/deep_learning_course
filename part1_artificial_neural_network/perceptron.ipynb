{
 "cells": [
  {
   "cell_type": "markdown",
   "metadata": {},
   "source": [
    "\n",
    "# Deep Learning with Python\n",
    "\n",
    "Welcome to the **Deep Learning** course! This course is designed to give you hands-on experience with the foundational concepts and advanced techniques in deep learning. You will explore:\n",
    "\n",
    "- Artificial Neural Networks and Gradient Descent\n",
    "- Convolutional Neural Networks (CNNs) for Computer Vision\n",
    "- Recurrent Neural Networks (RNNs) for Text Prediction\n",
    "- Diffusion Transformers for Image Generation\n",
    "\n",
    "Throughout the course, you'll engage in projects to solidify your understanding and gain practical skills in implementing deep learning algorithms.  \n",
    "\n",
    "Instructor: Dr. Adrien Dorise  \n",
    "Contact: adrien.dorise@hotmail.com  \n",
    "\n",
    "---\n"
   ]
  },
  {
   "cell_type": "code",
   "execution_count": 229,
   "metadata": {},
   "outputs": [
    {
     "name": "stdout",
     "output_type": "stream",
     "text": [
      "c:\\Users\\redaf\\OneDrive\\Bureau\\DeepL\\Scripts\\python.exe\n"
     ]
    }
   ],
   "source": [
    "import sys\n",
    "print(sys.executable)"
   ]
  },
  {
   "cell_type": "markdown",
   "metadata": {},
   "source": [
    "## Part1: Perceptron with Gradient Descent\n",
    "In this project, you will build a perceptron from scratch and gain a deeper understanding of how gradient descent works in optimizing models. The tasks you will complete include:\n",
    "\n",
    "1. **Import and Understand a Dataset**: Learn how to load, preprocess, and explore a dataset to prepare it for training.\n",
    "2. **Implement a Perceptron from Scratch**: Code the perceptron algorithm using only fundamental Python and NumPy.\n",
    "3. **Implement Gradient Descent**: Incorporate gradient descent to optimize the perceptron's weights.\n",
    "4. **Evaluate the Model on Simple Logical Functions**: Test your perceptron on logical functions like AND, OR, and XOR to understand their capabilities and limitations.\n",
    "5. **Evaluate the Model on a Real-World Dataset**: Apply your perceptron to a simple real-world dataset and assess its performance.\n",
    "\n",
    "By the end of this project, you'll have a solid understanding of how perceptrons work and how gradient descent improves their performance. This foundational knowledge will prepare you for more advanced neural network architectures in subsequent projects.\n",
    "\n",
    "---"
   ]
  },
  {
   "cell_type": "markdown",
   "metadata": {},
   "source": [
    "## Dataset\n",
    "\n",
    "This exercise will start by importing a simple dataset based on AND, OR and XOR logical functions.  \n",
    "These functions consist of binary inputs and outputs, used for training and testing basic neural network models. \n",
    "\n",
    "**AND Dataset**  \n",
    "The AND operation returns 1 if both inputs are 1, and 0 otherwise.\n",
    "\n",
    "| Input 1 | Input 2 | Output (AND) |\n",
    "|---------|---------|--------------|\n",
    "| 0       | 0       | 0            |\n",
    "| 0       | 1       | 0            |\n",
    "| 1       | 0       | 0            |\n",
    "| 1       | 1       | 1            |\n",
    "\n",
    "**OR Dataset**  \n",
    "The OR operation returns 1 if at least one input is 1.\n",
    "\n",
    "| Input 1 | Input 2 | Output (OR) |\n",
    "|---------|---------|-------------|\n",
    "| 0       | 0       | 0           |\n",
    "| 0       | 1       | 1           |\n",
    "| 1       | 0       | 1           |\n",
    "| 1       | 1       | 1           |\n",
    "\n",
    "**XOR Dataset**  \n",
    "The XOR operation returns 1 if the inputs are different, and 0 if they are the same.\n",
    "\n",
    "| Input 1 | Input 2 | Output (XOR) |\n",
    "|---------|---------|--------------|\n",
    "| 0       | 0       | 0            |\n",
    "| 0       | 1       | 1            |\n",
    "| 1       | 0       | 1            |\n",
    "| 1       | 1       | 0            |\n",
    "\n"
   ]
  },
  {
   "cell_type": "code",
   "execution_count": 230,
   "metadata": {},
   "outputs": [
    {
     "name": "stdout",
     "output_type": "stream",
     "text": [
      "[0 0] -> [0]\n",
      "[0 1] -> [0]\n",
      "[1 0] -> [0]\n",
      "[1 1] -> [1]\n"
     ]
    }
   ],
   "source": [
    "import numpy as np \n",
    "import matplotlib.pyplot as plt\n",
    "import pandas\n",
    "\n",
    "## AND dataset\n",
    "and_inputs = np.array([[0, 0], [0, 1], [1, 0], [1, 1]])\n",
    "and_outputs = np.array([[0], [0], [0], [1]])\n",
    "\n",
    "## OR dataset\n",
    "or_inputs = np.array([[0, 0], [0, 1], [1, 0], [1, 1]])\n",
    "or_outputs = np.array([[0], [1], [1], [1]])\n",
    "\n",
    "## XOR dataset\n",
    "xor_inputs = np.array([[0, 0], [0, 1], [1, 0], [1, 1]])\n",
    "xor_outputs = np.array([[0], [1], [1], [0]])\n",
    "\n",
    "\n",
    "# Explore the dataset\n",
    "for i in range(len(and_inputs)):\n",
    "    print(f\"{and_inputs[i]} -> {and_outputs[i]}\")"
   ]
  },
  {
   "cell_type": "markdown",
   "metadata": {},
   "source": [
    "## Create the Perceptron\n",
    "\n",
    "<img src=\"../docs/perceptron.jpg\" alt=\"Perceptron\" width=\"500\"/>  \n",
    "\n",
    "\n",
    "\n",
    "You will now have to implement the perceptron from scratch!\n",
    "It means recreating its function:  \n",
    "$\n",
    "\\hat{y} = f(\\sum_{i=1}^{n}(w_i x_i) + b) = f(w_1x_1 + w_2x_2 +...+w_nx_n +b)\n",
    "$\n",
    "\n",
    "It is done by:\n",
    " - Implementing the weighted sum\n",
    " - Implementing the activation function\n",
    " - Creating the perceptron\n",
    " - Defining the loss function\n",
    " - Implementing the optimisation with gradient descent\n",
    "    - Weights update\n",
    "    - Bias update\n"
   ]
  },
  {
   "cell_type": "markdown",
   "metadata": {},
   "source": [
    "**Weighted sum**\n",
    "- Complete the code below to create the weighted sum function.\n",
    "- It has to take an input vector, a weight vector and a bias value as input. \n",
    "- Feel free to experiment with the dataset created before to be sure that your function is working as expected.\n"
   ]
  },
  {
   "cell_type": "code",
   "execution_count": 231,
   "metadata": {},
   "outputs": [
    {
     "data": {
      "text/plain": [
       "array([0.5, 0.8, 0.6, 0.9])"
      ]
     },
     "execution_count": 231,
     "metadata": {},
     "output_type": "execute_result"
    }
   ],
   "source": [
    "def weighted_sum(x, weights, bias):\n",
    "    return np.dot(x, weights) + bias\n",
    "    #return sum(w * xi for w, xi in zip(weights, x)) + bias\n",
    "\n",
    "weighted_sum(and_inputs, np.array([0.1, 0.3]), 0.5)"
   ]
  },
  {
   "cell_type": "markdown",
   "metadata": {},
   "source": [
    "**Activation function**\n",
    "- Complete the code below to create the activation function\n",
    "- You can choose whatever activation function you want. \n",
    "- Be careful, as the step function has no gradient.\n",
    "- Sigmoid or ReLu functions seem to be a good fit!   \n",
    "$\n",
    "ReLU(x) = \n",
    "\\begin{cases} \n",
    "\tw, & \\text{if } x > 0 \\\\\n",
    "\t0, & \\text{if } x \\leq 0\n",
    "\\end{cases}\n",
    "$  \n",
    "$\n",
    "\\sigma(x) = \\frac{1}{1+e^{-x}}\n",
    "$"
   ]
  },
  {
   "cell_type": "code",
   "execution_count": 232,
   "metadata": {},
   "outputs": [],
   "source": [
    "\n",
    "# activation_functions\n",
    "\n",
    "def sigmoid(x):\n",
    "    return 1 / (1 + np.exp(-x))\n",
    "\n",
    "def relu(x):\n",
    "    return np.maximum(0,x)"
   ]
  },
  {
   "cell_type": "markdown",
   "metadata": {},
   "source": [
    "**Perceptron**\n",
    "- Complete the code below to create the forward function of your percetron.\n",
    "- feel free to test with the dummy data!"
   ]
  },
  {
   "cell_type": "code",
   "execution_count": 233,
   "metadata": {},
   "outputs": [
    {
     "name": "stdout",
     "output_type": "stream",
     "text": [
      "weights = [2, 1, 0, -1]\n",
      "bias = 0.5\n",
      "inputs = [1, 2, 3, 4]\n",
      "weighted sum = 0.5\n",
      "prediction = 0.5\n"
     ]
    }
   ],
   "source": [
    "dummy_x = [1,2,3,4]\n",
    "dummy_weights = [2,1,0,-1]\n",
    "dummy_bias = 0.5\n",
    "\n",
    "# Perceptron prediction\n",
    "def predict(x, weights, bias):\n",
    "    ws = weighted_sum(x, weights, bias)\n",
    "    return relu(ws)\n",
    "\n",
    "print(f\"weights = {dummy_weights}\")\n",
    "print(f\"bias = {dummy_bias}\")\n",
    "print(f\"inputs = {dummy_x}\")\n",
    "print(f\"weighted sum = {weighted_sum(dummy_x, dummy_weights, dummy_bias)}\")   \n",
    "print(f\"prediction = {predict(dummy_x, dummy_weights, dummy_bias)}\")\n"
   ]
  },
  {
   "cell_type": "markdown",
   "metadata": {},
   "source": [
    "**Loss function** \n",
    "- Complete the code below to create your custom loss function.\n",
    "- You will have to make a function that calculates the loss of a single sample, and a function that takes a batch of samples as input\n",
    "- The L2 loss is a good start:  \n",
    "$\n",
    "\\mathcal{L}(\\hat{y},y) = \\frac{1}{n} \\sum_{i=1}^{n} (\\hat{y}_i - y_i)^2\n",
    "$\n"
   ]
  },
  {
   "cell_type": "code",
   "execution_count": 234,
   "metadata": {},
   "outputs": [],
   "source": [
    "def compute_loss_sample(prediction, target):\n",
    "    return 0.5 * (prediction - target) ** 2  \n",
    "\n",
    "def compute_loss_batch(predictions, targets):\n",
    "    return np.mean([compute_loss_sample(p, t) for p, t in zip(predictions, targets)])\n"
   ]
  },
  {
   "cell_type": "markdown",
   "metadata": {},
   "source": [
    "**Gradient**  \n",
    "The gradient update is a formula of the form:  \n",
    "$ \\theta_i \\leftarrow \\theta_i - \\alpha \\nabla_{\\theta_i} J(\\theta_i) $\n",
    "\n",
    "- Complete the code below to compute the gradient of the loss function $\\nabla_{\\theta_i} \\mathcal{L}_{\\theta_i}$ \n",
    "    - in regards to the weights\n",
    "    - in regards to the bias\n",
    "- You will have to return the gradient for each weight in your perceptron as a vector.\n",
    "- **Be careful to include the derivative of your activation function!**\n",
    "  - Create a function to compute the derivative in regards to the weighted some *z*.\n",
    "- If you are lost, go back to part 1 of the course.\n",
    "    - Get back to the slides 38->48"
   ]
  },
  {
   "cell_type": "code",
   "execution_count": null,
   "metadata": {},
   "outputs": [],
   "source": [
    "inputs = and_inputs\n",
    "targets = and_outputs\n",
    "weights = [2,-1]\n",
    "bias = 0.5\n",
    "\n",
    "def derivative(z):\n",
    "    return np.where(z > 0, 1, 0)\n",
    "\n",
    "\n",
    "def gradient_weights(inputs, targets, weights, bias):\n",
    "    predictions = relu(weighted_sum(inputs, weights, bias))\n",
    "    # On calcule les gradients \n",
    "    error = predictions - targets \n",
    "    dw = np.dot(inputs.T, error) / len(targets)  \n",
    "    return dw\n",
    "def gradient_bias(inputs, targets, weights, bias):\n",
    "    predictions = relu(weighted_sum(inputs, weights, bias))\n",
    "    return np.mean(predictions - targets)\n",
    "\n"
   ]
  },
  {
   "cell_type": "markdown",
   "metadata": {},
   "source": [
    "**Gradient Descent**\n",
    "Now that you have computed the gradient, you can perform the gradient descent!\n",
    "- You have to perform the full parameters updates using what you created.\n",
    "    - Get data from the dataset\n",
    "    - Predict new value with your model\n",
    "    - Compute the gradient\n",
    "    - Update the parameters\n",
    "    - Return the final parameters\n",
    "    - *Compute the loss of the epoch, to verify that the model is learning*\n",
    "        - Return a list of the losses for each epoch\n",
    "- Recall the gradient update function if needed\n",
    "    - Make use of the learning parameter $\\alpha$.\n",
    "- The gradient descent is an iterative algorithm\n",
    "    - Loop the algorithm until you reach a set number of iterations.\n"
   ]
  },
  {
   "cell_type": "code",
   "execution_count": 236,
   "metadata": {},
   "outputs": [],
   "source": [
    "def fit(inputs, targets, weights, bias, alpha, max_iter):\n",
    "    losses = []\n",
    "\n",
    "    for epoch in range(max_iter):\n",
    "        # Compute gradients\n",
    "        dw = gradient_weights(inputs, targets, weights, bias)\n",
    "        db = gradient_bias(inputs, targets, weights, bias)\n",
    "\n",
    "        # Update weights and bias\n",
    "        weights -= alpha * dw\n",
    "        bias -= alpha * db\n",
    "\n",
    "        # Compute loss (MSE)\n",
    "        predictions = relu(weighted_sum(inputs, weights, bias))\n",
    "        loss = compute_loss_batch(predictions, targets)\n",
    "        losses.append(loss)\n",
    "\n",
    "        # Print progress every 50 epochs\n",
    "        if epoch % 50 == 0:\n",
    "            print(f\"Epoch {epoch}: Loss = {loss:.4f}\")\n",
    "\n",
    "    return weights, bias, losses\n",
    "\n",
    "# Données des portes logiques\n",
    "and_inputs = np.array([[0, 0], [0, 1], [1, 0], [1, 1]])\n",
    "and_outputs = np.array([0, 0, 0, 1])\n",
    "or_outputs = np.array([0, 1, 1, 1])\n",
    "xor_outputs = np.array([0, 1, 1, 0])\n",
    "\n",
    "inputs = and_inputs\n",
    "targets = and_outputs\n",
    "weights = np.array([2, -1], dtype=float)\n",
    "bias = 0.5\n",
    "alpha = 0.05\n",
    "n_epoch = 500"
   ]
  },
  {
   "cell_type": "markdown",
   "metadata": {},
   "source": [
    "**Plot results**\n",
    "\n",
    "Now that your model is working fine, you can plot the result to verify the training\n",
    "- Compute the losses for the three dataset AND, OR and XOR.\n",
    "- Use matplotlib to plot the three losses on a single figure.\n",
    "- Conclude on the results."
   ]
  },
  {
   "cell_type": "code",
   "execution_count": 237,
   "metadata": {},
   "outputs": [
    {
     "name": "stdout",
     "output_type": "stream",
     "text": [
      "Epoch 0: Loss = 0.7786\n",
      "Epoch 50: Loss = 0.1962\n",
      "Epoch 100: Loss = 0.1127\n",
      "Epoch 150: Loss = 0.0650\n",
      "Epoch 200: Loss = 0.0375\n",
      "Epoch 250: Loss = 0.0217\n",
      "Epoch 300: Loss = 0.0125\n",
      "Epoch 350: Loss = 0.0072\n",
      "Epoch 400: Loss = 0.0044\n",
      "Epoch 450: Loss = 0.0032\n",
      "Epoch 0: Loss = 0.1994\n",
      "Epoch 50: Loss = 0.0327\n",
      "Epoch 100: Loss = 0.0319\n",
      "Epoch 150: Loss = 0.0315\n",
      "Epoch 200: Loss = 0.0314\n",
      "Epoch 250: Loss = 0.0313\n",
      "Epoch 300: Loss = 0.0313\n",
      "Epoch 350: Loss = 0.0313\n",
      "Epoch 400: Loss = 0.0313\n",
      "Epoch 450: Loss = 0.0313\n",
      "Epoch 0: Loss = 0.2884\n",
      "Epoch 50: Loss = 0.1354\n",
      "Epoch 100: Loss = 0.1297\n",
      "Epoch 150: Loss = 0.1272\n",
      "Epoch 200: Loss = 0.1260\n",
      "Epoch 250: Loss = 0.1254\n",
      "Epoch 300: Loss = 0.1252\n",
      "Epoch 350: Loss = 0.1251\n",
      "Epoch 400: Loss = 0.1250\n",
      "Epoch 450: Loss = 0.1250\n"
     ]
    },
    {
     "data": {
      "image/png": "[encoded data removed]",
      "text/plain": [
       "<Figure size 640x480 with 1 Axes>"
      ]
     },
     "metadata": {},
     "output_type": "display_data"
    }
   ],
   "source": [
    "# Garder ta fonction de plot inchangée\n",
    "def plot_losses(loss_and, loss_or, loss_xor):\n",
    "    plt.plot(loss_and, label='AND')\n",
    "    plt.plot(loss_or, label='OR')\n",
    "    plt.plot(loss_xor, label='XOR')\n",
    "    plt.xlabel('Epoch')\n",
    "    plt.ylabel(\"Loss\")\n",
    "    plt.title(\"Perceptron training\")\n",
    "    plt.grid(True)\n",
    "    plt.legend()\n",
    "    plt.show()\n",
    "\n",
    "# AND\n",
    "w_and, b_and, loss_and = fit(and_inputs, and_outputs, weights, bias, alpha, n_epoch)\n",
    "# OR\n",
    "w_or, b_or, loss_or = fit(and_inputs, or_outputs, weights, bias, alpha, n_epoch)\n",
    "# XOR\n",
    "w_xor, b_xor, loss_xor = fit(and_inputs, xor_outputs, weights, bias, alpha, n_epoch)\n",
    "\n",
    "# Plot des pertes\n",
    "plot_losses(loss_and, loss_or, loss_xor)"
   ]
  },
  {
   "cell_type": "markdown",
   "metadata": {},
   "source": [
    "# BONUS\n",
    "\n",
    "Now that you have a perfect understanding of the perceptron and its limitations, you can try your algorithm on real-world datasets!\n",
    "Below are some examples that you can get from sklearn or the *Kaggle* website.\n",
    "\n",
    "**Iris Dataset (Binary Subset)**  \n",
    "Description: The Iris dataset is a classic dataset in machine learning. You can use only two classes (e.g., Setosa and Versicolor) and two features (e.g., sepal length and width) to make it linearly separable.\n",
    "\n",
    "**Breast Cancer Dataset**  \n",
    "Description: A dataset for binary classification, differentiating between malignant and benign tumors.\n",
    "\n",
    "**Titanic Dataset**  \n",
    "Description: A dataset to predict survival on the Titanic. Simplify it by selecting features like Pclass, Age, and Sex and treat survival as the target.\n",
    "\n",
    "**Pima Indians Diabetes Dataset**  \n",
    "Description: A dataset to predict the onset of diabetes based on diagnostic measures like glucose concentration, blood pressure, and BMI.\n",
    "\n",
    "*Kaggle is your go-to community for data science. It has tons of public datasets and challenges to help you improve.*\n",
    "\n",
    "**Your job**\n",
    "- Train your perceptron on one of these datasets.\n",
    "- Try to get the best possible model by varying the hyperparameters\n",
    "- Analyse if the perceptron is limited due to its non-linearity (try to plot the data, or compare with non-linear models if you know some)\n",
    "- Conclude\n"
   ]
  },
  {
   "cell_type": "code",
   "execution_count": 238,
   "metadata": {},
   "outputs": [],
   "source": [
    "import pandas as pd\n",
    "from sklearn.datasets import load_iris, load_breast_cancer\n",
    "from sklearn.preprocessing import StandardScaler\n",
    "\n",
    "# Utility Function: Scale Features\n",
    "def scale_features(X):\n",
    "    scaler = StandardScaler()\n",
    "    X_scaled = scaler.fit_transform(X)\n",
    "    return X_scaled\n",
    "\n",
    "# Iris Dataset (Binary Subset)\n",
    "def load_iris_dataset():\n",
    "    iris = load_iris()\n",
    "    mask = iris.target != 2  # Exclude the third class (Virginica)\n",
    "    X = iris.data[mask, :2]  # Only first two features\n",
    "    y = iris.target[mask]\n",
    "    return X, y\n",
    "\n",
    "# Breast Cancer Dataset\n",
    "def load_breast_cancer_dataset():\n",
    "    data = load_breast_cancer()\n",
    "    X = data.data\n",
    "    y = data.target\n",
    "    return X, y\n",
    "\n",
    "# Titanic Dataset\n",
    "def load_titanic_dataset():\n",
    "    url = \"https://raw.githubusercontent.com/datasciencedojo/datasets/master/titanic.csv\"\n",
    "    df = pd.read_csv(url)\n",
    "    # Select features: Pclass, Age, Sex\n",
    "    df = df[['Pclass', 'Age', 'Sex', 'Survived']].dropna()\n",
    "    df['Sex'] = df['Sex'].map({'male': 0, 'female': 1})  # Convert categorical to numeric\n",
    "    X = df[['Pclass', 'Age', 'Sex']].values\n",
    "    y = df['Survived'].values\n",
    "    return X, y\n",
    "\n",
    "# Pima Indians Diabetes Dataset\n",
    "def load_pima_diabetes_dataset():\n",
    "    url = \"https://raw.githubusercontent.com/jbrownlee/Datasets/master/pima-indians-diabetes.data.csv\"\n",
    "    columns = ['Pregnancies', 'Glucose', 'BloodPressure', 'SkinThickness', 'Insulin', \n",
    "               'BMI', 'DiabetesPedigreeFunction', 'Age', 'Outcome']\n",
    "    dataset = pd.read_csv(url, names=columns)\n",
    "    X = dataset.iloc[:, :-1].values\n",
    "    y = dataset['Outcome'].values\n",
    "    return X, y\n",
    "\n"
   ]
  },
  {
   "cell_type": "code",
   "execution_count": 239,
   "metadata": {},
   "outputs": [
    {
     "name": "stdout",
     "output_type": "stream",
     "text": [
      "\n",
      "Iris dataset loaded and scaled.\n",
      "Train shape: (100, 2)\n",
      "First samples: [-0.5810659   0.84183714] -> 0\n",
      "\n",
      "Breast Cancer dataset loaded and scaled.\n",
      "Train shape: (569, 30)\n",
      "First samples: [ 1.09706398 -2.07333501  1.26993369  0.9843749   1.56846633  3.28351467\n",
      "  2.65287398  2.53247522  2.21751501  2.25574689  2.48973393 -0.56526506\n",
      "  2.83303087  2.48757756 -0.21400165  1.31686157  0.72402616  0.66081994\n",
      "  1.14875667  0.90708308  1.88668963 -1.35929347  2.30360062  2.00123749\n",
      "  1.30768627  2.61666502  2.10952635  2.29607613  2.75062224  1.93701461] -> 0\n",
      "\n",
      "Titanic dataset loaded and scaled.\n",
      "Train shape: (714, 3)\n",
      "First samples: [ 0.91123237 -0.53037664 -0.75905134] -> 0\n",
      "\n",
      "Pima Diabetes dataset loaded and scaled.\n",
      "Train shape: (768, 8)\n",
      "First samples: [ 0.63994726  0.84832379  0.14964075  0.90726993 -0.69289057  0.20401277\n",
      "  0.46849198  1.4259954 ] -> 1\n"
     ]
    }
   ],
   "source": [
    "# Example Usage\n",
    "\n",
    "# Iris dataset\n",
    "X, y = load_iris_dataset()\n",
    "X = scale_features(X)\n",
    "print(\"\\nIris dataset loaded and scaled.\")\n",
    "print(\"Train shape:\", X.shape)\n",
    "print(f\"First samples: {X[0]} -> {y[0]}\")\n",
    "\n",
    "# Breast Cancer dataset\n",
    "X, y = load_breast_cancer_dataset()\n",
    "X = scale_features(X)\n",
    "print(\"\\nBreast Cancer dataset loaded and scaled.\")\n",
    "print(\"Train shape:\", X.shape)\n",
    "print(f\"First samples: {X[0]} -> {y[0]}\")\n",
    "\n",
    "# Titanic dataset\n",
    "X, y = load_titanic_dataset()\n",
    "X = scale_features(X)\n",
    "print(\"\\nTitanic dataset loaded and scaled.\")\n",
    "print(\"Train shape:\", X.shape)\n",
    "print(f\"First samples: {X[0]} -> {y[0]}\")\n",
    "\n",
    "# Pima Diabetes dataset\n",
    "X, y = load_pima_diabetes_dataset()\n",
    "X = scale_features(X)\n",
    "print(\"\\nPima Diabetes dataset loaded and scaled.\")\n",
    "print(\"Train shape:\", X.shape)\n",
    "print(f\"First samples: {X[0]} -> {y[0]}\")"
   ]
  },
  {
   "cell_type": "code",
   "execution_count": 240,
   "metadata": {},
   "outputs": [
    {
     "name": "stdout",
     "output_type": "stream",
     "text": [
      "Epoch 0: Loss = 2.5762\n",
      "Epoch 50: Loss = 1.2218\n",
      "Epoch 100: Loss = 0.6907\n",
      "Epoch 150: Loss = 0.4518\n",
      "Epoch 200: Loss = 0.3328\n",
      "Epoch 250: Loss = 0.2682\n",
      "Epoch 300: Loss = 0.2300\n",
      "Epoch 350: Loss = 0.2046\n",
      "Epoch 400: Loss = 0.1858\n",
      "Epoch 450: Loss = 0.1719\n",
      "Epoch 500: Loss = 0.1607\n",
      "Epoch 550: Loss = 0.1510\n",
      "Epoch 600: Loss = 0.1416\n",
      "Epoch 650: Loss = 0.1333\n",
      "Epoch 700: Loss = 0.1264\n",
      "Epoch 750: Loss = 0.1195\n",
      "Epoch 800: Loss = 0.1133\n",
      "Epoch 850: Loss = 0.1082\n",
      "Epoch 900: Loss = 0.1034\n",
      "Epoch 950: Loss = 0.0993\n",
      "Final Loss: 0.0958\n",
      "Sample predictions: [0.31089682 0.         1.12591958 0.         0.42357532 0.20337791\n",
      " 0.         0.98041062 0.31103212 0.        ]\n"
     ]
    },
    {
     "data": {
      "image/png": "[encoded data removed]",
      "text/plain": [
       "<Figure size 640x480 with 1 Axes>"
      ]
     },
     "metadata": {},
     "output_type": "display_data"
    }
   ],
   "source": [
    "# Initialisation des poids et biais\n",
    "weights = np.random.randn(X.shape[1])\n",
    "bias = 0.0\n",
    "alpha = 0.01\n",
    "n_epoch = 1000\n",
    "\n",
    "# Entraînement du perceptron\n",
    "w_pima, b_pima, loss_pima = fit(X, y, weights, bias, alpha, n_epoch)\n",
    "\n",
    "# Affichage de la loss finale\n",
    "print(f\"Final Loss: {loss_pima[-1]:.4f}\")\n",
    "\n",
    "# Prédiction sur les mêmes données\n",
    "predictions = predict(X, w_pima, b_pima)\n",
    "print(\"Sample predictions:\", predictions[:10])\n",
    "\n",
    "# Plot des pertes\n",
    "plt.plot(loss_pima)\n",
    "plt.xlabel('Epoch')\n",
    "plt.ylabel('Loss')\n",
    "plt.title('Pima Diabetes Perceptron Training')\n",
    "plt.grid(True)\n",
    "plt.show()"
   ]
  },
  {
   "cell_type": "code",
   "execution_count": 242,
   "metadata": {},
   "outputs": [
    {
     "name": "stdout",
     "output_type": "stream",
     "text": [
      "Accuracy: 0.7526\n",
      "\n",
      "Confusion Matrix:\n",
      "[[447  53]\n",
      " [137 131]]\n",
      "\n",
      "Classification Report:\n",
      "              precision    recall  f1-score   support\n",
      "\n",
      "           0       0.77      0.89      0.82       500\n",
      "           1       0.71      0.49      0.58       268\n",
      "\n",
      "    accuracy                           0.75       768\n",
      "   macro avg       0.74      0.69      0.70       768\n",
      "weighted avg       0.75      0.75      0.74       768\n",
      "\n",
      "\n",
      "Comparaison Prédictions vs Vraies Valeurs:\n",
      "Sample 1 - Prediction: 0 -> Actual: 1\n",
      "Sample 2 - Prediction: 0 -> Actual: 0\n",
      "Sample 3 - Prediction: 1 -> Actual: 1\n",
      "Sample 4 - Prediction: 0 -> Actual: 0\n",
      "Sample 5 - Prediction: 0 -> Actual: 1\n",
      "Sample 6 - Prediction: 0 -> Actual: 0\n",
      "Sample 7 - Prediction: 0 -> Actual: 1\n",
      "Sample 8 - Prediction: 1 -> Actual: 0\n",
      "Sample 9 - Prediction: 0 -> Actual: 1\n",
      "Sample 10 - Prediction: 0 -> Actual: 1\n"
     ]
    }
   ],
   "source": [
    "from sklearn.metrics import accuracy_score, confusion_matrix, classification_report\n",
    "\n",
    "# Binarisation des prédictions \n",
    "binary_predictions = (predictions > 0.5).astype(int)\n",
    "\n",
    "# Calcul des métriques\n",
    "accuracy = accuracy_score(y, binary_predictions)\n",
    "conf_matrix = confusion_matrix(y, binary_predictions)\n",
    "class_report = classification_report(y, binary_predictions)\n",
    "\n",
    "# Affichage des résultats\n",
    "print(f\"Accuracy: {accuracy:.4f}\")\n",
    "print(\"\\nConfusion Matrix:\")\n",
    "print(conf_matrix)\n",
    "print(\"\\nClassification Report:\")\n",
    "print(class_report)\n",
    "\n",
    "# Comparaison des 10 premières prédictions avec les vraies valeurs\n",
    "print(\"\\nComparaison Prédictions vs Vraies Valeurs:\")\n",
    "for i in range(10):\n",
    "    print(f\"Sample {i + 1} - Prediction: {binary_predictions[i]} -> Actual: {y[i]}\")"
   ]
  }
 ],
 "metadata": {
  "kernelspec": {
   "display_name": "DeepL",
   "language": "python",
   "name": "python3"
  },
  "language_info": {
   "codemirror_mode": {
    "name": "ipython",
    "version": 3
   },
   "file_extension": ".py",
   "mimetype": "text/x-python",
   "name": "python",
   "nbconvert_exporter": "python",
   "pygments_lexer": "ipython3",
   "version": "3.10.11"
  }
 },
 "nbformat": 4,
 "nbformat_minor": 2
}
